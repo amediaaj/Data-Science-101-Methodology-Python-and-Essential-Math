{
 "cells": [
  {
   "cell_type": "code",
   "execution_count": 1,
   "id": "a7b1fe92",
   "metadata": {},
   "outputs": [],
   "source": [
    "import pandas as pd"
   ]
  },
  {
   "cell_type": "markdown",
   "id": "590c0831",
   "metadata": {},
   "source": [
    "# Series"
   ]
  },
  {
   "cell_type": "code",
   "execution_count": 6,
   "id": "fd743c0f",
   "metadata": {},
   "outputs": [
    {
     "data": {
      "text/plain": [
       "Name        Alex\n",
       "Class    Physics\n",
       "Score         85\n",
       "dtype: object"
      ]
     },
     "execution_count": 6,
     "metadata": {},
     "output_type": "execute_result"
    }
   ],
   "source": [
    "record1 = pd.Series({\"Name\": \"Alex\",\n",
    "                    \"Class\": \"Physics\",\n",
    "                    \"Score\": 85})\n",
    "record1"
   ]
  },
  {
   "cell_type": "code",
   "execution_count": 7,
   "id": "b58fcf76",
   "metadata": {},
   "outputs": [
    {
     "data": {
      "text/plain": [
       "Name        Alex\n",
       "Class    Physics\n",
       "Score         85\n",
       "dtype: object"
      ]
     },
     "execution_count": 7,
     "metadata": {},
     "output_type": "execute_result"
    }
   ],
   "source": [
    "record2 = pd.Series({\"Name\": \"John\",\n",
    "                    \"Class\": \"Math\",\n",
    "                    \"Score\": 88})\n",
    "record1"
   ]
  },
  {
   "cell_type": "code",
   "execution_count": 8,
   "id": "69c6a302",
   "metadata": {},
   "outputs": [
    {
     "data": {
      "text/html": [
       "<div>\n",
       "<style scoped>\n",
       "    .dataframe tbody tr th:only-of-type {\n",
       "        vertical-align: middle;\n",
       "    }\n",
       "\n",
       "    .dataframe tbody tr th {\n",
       "        vertical-align: top;\n",
       "    }\n",
       "\n",
       "    .dataframe thead th {\n",
       "        text-align: right;\n",
       "    }\n",
       "</style>\n",
       "<table border=\"1\" class=\"dataframe\">\n",
       "  <thead>\n",
       "    <tr style=\"text-align: right;\">\n",
       "      <th></th>\n",
       "      <th>Name</th>\n",
       "      <th>Class</th>\n",
       "      <th>Score</th>\n",
       "    </tr>\n",
       "  </thead>\n",
       "  <tbody>\n",
       "    <tr>\n",
       "      <th>school1</th>\n",
       "      <td>Alex</td>\n",
       "      <td>Physics</td>\n",
       "      <td>85</td>\n",
       "    </tr>\n",
       "    <tr>\n",
       "      <th>school2</th>\n",
       "      <td>John</td>\n",
       "      <td>Math</td>\n",
       "      <td>88</td>\n",
       "    </tr>\n",
       "  </tbody>\n",
       "</table>\n",
       "</div>"
      ],
      "text/plain": [
       "         Name    Class  Score\n",
       "school1  Alex  Physics     85\n",
       "school2  John     Math     88"
      ]
     },
     "execution_count": 8,
     "metadata": {},
     "output_type": "execute_result"
    }
   ],
   "source": [
    "df = pd.DataFrame([record1, record2], index = ['school1', 'school2'])\n",
    "df"
   ]
  },
  {
   "cell_type": "code",
   "execution_count": 9,
   "id": "2d2eb171",
   "metadata": {},
   "outputs": [
    {
     "data": {
      "text/html": [
       "<div>\n",
       "<style scoped>\n",
       "    .dataframe tbody tr th:only-of-type {\n",
       "        vertical-align: middle;\n",
       "    }\n",
       "\n",
       "    .dataframe tbody tr th {\n",
       "        vertical-align: top;\n",
       "    }\n",
       "\n",
       "    .dataframe thead th {\n",
       "        text-align: right;\n",
       "    }\n",
       "</style>\n",
       "<table border=\"1\" class=\"dataframe\">\n",
       "  <thead>\n",
       "    <tr style=\"text-align: right;\">\n",
       "      <th></th>\n",
       "      <th>Name</th>\n",
       "      <th>Class</th>\n",
       "      <th>Score</th>\n",
       "    </tr>\n",
       "  </thead>\n",
       "  <tbody>\n",
       "    <tr>\n",
       "      <th>school1</th>\n",
       "      <td>Alex</td>\n",
       "      <td>Physics</td>\n",
       "      <td>85</td>\n",
       "    </tr>\n",
       "  </tbody>\n",
       "</table>\n",
       "</div>"
      ],
      "text/plain": [
       "         Name    Class  Score\n",
       "school1  Alex  Physics     85"
      ]
     },
     "execution_count": 9,
     "metadata": {},
     "output_type": "execute_result"
    }
   ],
   "source": [
    "df.head(1)"
   ]
  },
  {
   "cell_type": "code",
   "execution_count": 10,
   "id": "fbd4062e",
   "metadata": {},
   "outputs": [
    {
     "data": {
      "text/plain": [
       "pandas.core.frame.DataFrame"
      ]
     },
     "execution_count": 10,
     "metadata": {},
     "output_type": "execute_result"
    }
   ],
   "source": [
    "type(df)"
   ]
  },
  {
   "cell_type": "markdown",
   "id": "3cee83a4",
   "metadata": {},
   "source": [
    "# Comparing Series & Dataframe"
   ]
  },
  {
   "cell_type": "code",
   "execution_count": 12,
   "id": "3267c445",
   "metadata": {},
   "outputs": [],
   "source": [
    "import numpy as np\n",
    "import matplotlib.pyplot as plt"
   ]
  },
  {
   "cell_type": "code",
   "execution_count": 14,
   "id": "bc7937ba",
   "metadata": {},
   "outputs": [
    {
     "data": {
      "text/plain": [
       "0    1\n",
       "1    2\n",
       "2    3\n",
       "3    4\n",
       "4    5\n",
       "dtype: int64"
      ]
     },
     "execution_count": 14,
     "metadata": {},
     "output_type": "execute_result"
    }
   ],
   "source": [
    "s = pd.Series([1, 2, 3, 4, 5])\n",
    "s"
   ]
  },
  {
   "cell_type": "code",
   "execution_count": 15,
   "id": "1a83cab5",
   "metadata": {},
   "outputs": [
    {
     "data": {
      "text/plain": [
       "2015 Sales    30\n",
       "2016 Sales    35\n",
       "2017 Sales    40\n",
       "Name: Product A, dtype: int64"
      ]
     },
     "execution_count": 15,
     "metadata": {},
     "output_type": "execute_result"
    }
   ],
   "source": [
    "pd.Series([30, 35, 40], index = ['2015 Sales', '2016 Sales', '2017 Sales'], name = 'Product A')"
   ]
  },
  {
   "cell_type": "code",
   "execution_count": 18,
   "id": "5da21e00",
   "metadata": {},
   "outputs": [
    {
     "data": {
      "text/html": [
       "<div>\n",
       "<style scoped>\n",
       "    .dataframe tbody tr th:only-of-type {\n",
       "        vertical-align: middle;\n",
       "    }\n",
       "\n",
       "    .dataframe tbody tr th {\n",
       "        vertical-align: top;\n",
       "    }\n",
       "\n",
       "    .dataframe thead th {\n",
       "        text-align: right;\n",
       "    }\n",
       "</style>\n",
       "<table border=\"1\" class=\"dataframe\">\n",
       "  <thead>\n",
       "    <tr style=\"text-align: right;\">\n",
       "      <th></th>\n",
       "      <th>High</th>\n",
       "      <th>Low</th>\n",
       "    </tr>\n",
       "  </thead>\n",
       "  <tbody>\n",
       "    <tr>\n",
       "      <th>Austin</th>\n",
       "      <td>20</td>\n",
       "      <td>14</td>\n",
       "    </tr>\n",
       "    <tr>\n",
       "      <th>Los Angeles</th>\n",
       "      <td>10</td>\n",
       "      <td>18</td>\n",
       "    </tr>\n",
       "    <tr>\n",
       "      <th>Seattle</th>\n",
       "      <td>40</td>\n",
       "      <td>12</td>\n",
       "    </tr>\n",
       "    <tr>\n",
       "      <th>Nashville</th>\n",
       "      <td>23</td>\n",
       "      <td>19</td>\n",
       "    </tr>\n",
       "    <tr>\n",
       "      <th>Salt Lake City</th>\n",
       "      <td>34</td>\n",
       "      <td>25</td>\n",
       "    </tr>\n",
       "  </tbody>\n",
       "</table>\n",
       "</div>"
      ],
      "text/plain": [
       "                High  Low\n",
       "Austin            20   14\n",
       "Los Angeles       10   18\n",
       "Seattle           40   12\n",
       "Nashville         23   19\n",
       "Salt Lake City    34   25"
      ]
     },
     "execution_count": 18,
     "metadata": {},
     "output_type": "execute_result"
    }
   ],
   "source": [
    "df = pd.DataFrame({'High': [20, 10, 40, 23, 34],\n",
    "                  'Low': [14, 18, 12, 19, 25]}, \n",
    "                 index = ['Austin', 'Los Angeles', 'Seattle', 'Nashville', 'Salt Lake City'])\n",
    "df"
   ]
  },
  {
   "cell_type": "code",
   "execution_count": 21,
   "id": "20434ca2",
   "metadata": {},
   "outputs": [
    {
     "data": {
      "text/plain": [
       "({'a': 1, 'aa': 2}, {'b': 3}, {'c': 4})"
      ]
     },
     "execution_count": 21,
     "metadata": {},
     "output_type": "execute_result"
    }
   ],
   "source": [
    "my_dict = {'a': 1, 'aa': 2}, {'b': 3}, {'c': 4}\n",
    "my_dict"
   ]
  },
  {
   "cell_type": "code",
   "execution_count": 23,
   "id": "1fdfa5da",
   "metadata": {},
   "outputs": [
    {
     "data": {
      "text/plain": [
       "0    {'a': 1, 'aa': 2}\n",
       "1             {'b': 3}\n",
       "2             {'c': 4}\n",
       "dtype: object"
      ]
     },
     "execution_count": 23,
     "metadata": {},
     "output_type": "execute_result"
    }
   ],
   "source": [
    "s = pd.Series(my_dict)\n",
    "s"
   ]
  },
  {
   "cell_type": "code",
   "execution_count": 24,
   "id": "51b61340",
   "metadata": {},
   "outputs": [
    {
     "data": {
      "text/html": [
       "<div>\n",
       "<style scoped>\n",
       "    .dataframe tbody tr th:only-of-type {\n",
       "        vertical-align: middle;\n",
       "    }\n",
       "\n",
       "    .dataframe tbody tr th {\n",
       "        vertical-align: top;\n",
       "    }\n",
       "\n",
       "    .dataframe thead th {\n",
       "        text-align: right;\n",
       "    }\n",
       "</style>\n",
       "<table border=\"1\" class=\"dataframe\">\n",
       "  <thead>\n",
       "    <tr style=\"text-align: right;\">\n",
       "      <th></th>\n",
       "      <th>a</th>\n",
       "      <th>aa</th>\n",
       "      <th>b</th>\n",
       "      <th>c</th>\n",
       "    </tr>\n",
       "  </thead>\n",
       "  <tbody>\n",
       "    <tr>\n",
       "      <th>0</th>\n",
       "      <td>1.0</td>\n",
       "      <td>2.0</td>\n",
       "      <td>NaN</td>\n",
       "      <td>NaN</td>\n",
       "    </tr>\n",
       "    <tr>\n",
       "      <th>1</th>\n",
       "      <td>NaN</td>\n",
       "      <td>NaN</td>\n",
       "      <td>3.0</td>\n",
       "      <td>NaN</td>\n",
       "    </tr>\n",
       "    <tr>\n",
       "      <th>2</th>\n",
       "      <td>NaN</td>\n",
       "      <td>NaN</td>\n",
       "      <td>NaN</td>\n",
       "      <td>4.0</td>\n",
       "    </tr>\n",
       "  </tbody>\n",
       "</table>\n",
       "</div>"
      ],
      "text/plain": [
       "     a   aa    b    c\n",
       "0  1.0  2.0  NaN  NaN\n",
       "1  NaN  NaN  3.0  NaN\n",
       "2  NaN  NaN  NaN  4.0"
      ]
     },
     "execution_count": 24,
     "metadata": {},
     "output_type": "execute_result"
    }
   ],
   "source": [
    "df = pd.DataFrame(my_dict)\n",
    "df"
   ]
  },
  {
   "cell_type": "markdown",
   "id": "d14ee734",
   "metadata": {},
   "source": [
    "# Read in TSLA Dataset"
   ]
  },
  {
   "cell_type": "code",
   "execution_count": 29,
   "id": "6d9a5850",
   "metadata": {},
   "outputs": [
    {
     "data": {
      "text/html": [
       "<div>\n",
       "<style scoped>\n",
       "    .dataframe tbody tr th:only-of-type {\n",
       "        vertical-align: middle;\n",
       "    }\n",
       "\n",
       "    .dataframe tbody tr th {\n",
       "        vertical-align: top;\n",
       "    }\n",
       "\n",
       "    .dataframe thead th {\n",
       "        text-align: right;\n",
       "    }\n",
       "</style>\n",
       "<table border=\"1\" class=\"dataframe\">\n",
       "  <thead>\n",
       "    <tr style=\"text-align: right;\">\n",
       "      <th></th>\n",
       "      <th>Date</th>\n",
       "      <th>Open</th>\n",
       "      <th>High</th>\n",
       "      <th>Low</th>\n",
       "      <th>Close</th>\n",
       "      <th>Adj Close</th>\n",
       "      <th>Volume</th>\n",
       "    </tr>\n",
       "  </thead>\n",
       "  <tbody>\n",
       "    <tr>\n",
       "      <th>0</th>\n",
       "      <td>2020-09-21</td>\n",
       "      <td>453.130005</td>\n",
       "      <td>455.679993</td>\n",
       "      <td>407.070007</td>\n",
       "      <td>449.390015</td>\n",
       "      <td>449.390015</td>\n",
       "      <td>109476800</td>\n",
       "    </tr>\n",
       "    <tr>\n",
       "      <th>1</th>\n",
       "      <td>2020-09-22</td>\n",
       "      <td>429.600006</td>\n",
       "      <td>437.760010</td>\n",
       "      <td>417.600006</td>\n",
       "      <td>424.230011</td>\n",
       "      <td>424.230011</td>\n",
       "      <td>79580800</td>\n",
       "    </tr>\n",
       "    <tr>\n",
       "      <th>2</th>\n",
       "      <td>2020-09-23</td>\n",
       "      <td>405.160004</td>\n",
       "      <td>412.149994</td>\n",
       "      <td>375.880005</td>\n",
       "      <td>380.359985</td>\n",
       "      <td>380.359985</td>\n",
       "      <td>95074200</td>\n",
       "    </tr>\n",
       "    <tr>\n",
       "      <th>3</th>\n",
       "      <td>2020-09-24</td>\n",
       "      <td>363.799988</td>\n",
       "      <td>399.500000</td>\n",
       "      <td>351.299988</td>\n",
       "      <td>387.790009</td>\n",
       "      <td>387.790009</td>\n",
       "      <td>96561100</td>\n",
       "    </tr>\n",
       "    <tr>\n",
       "      <th>4</th>\n",
       "      <td>2020-09-25</td>\n",
       "      <td>393.470001</td>\n",
       "      <td>408.730011</td>\n",
       "      <td>391.299988</td>\n",
       "      <td>407.339996</td>\n",
       "      <td>407.339996</td>\n",
       "      <td>67208500</td>\n",
       "    </tr>\n",
       "    <tr>\n",
       "      <th>...</th>\n",
       "      <td>...</td>\n",
       "      <td>...</td>\n",
       "      <td>...</td>\n",
       "      <td>...</td>\n",
       "      <td>...</td>\n",
       "      <td>...</td>\n",
       "      <td>...</td>\n",
       "    </tr>\n",
       "    <tr>\n",
       "      <th>247</th>\n",
       "      <td>2021-09-14</td>\n",
       "      <td>742.570007</td>\n",
       "      <td>754.469971</td>\n",
       "      <td>736.400024</td>\n",
       "      <td>744.489990</td>\n",
       "      <td>744.489990</td>\n",
       "      <td>18524900</td>\n",
       "    </tr>\n",
       "    <tr>\n",
       "      <th>248</th>\n",
       "      <td>2021-09-15</td>\n",
       "      <td>745.000000</td>\n",
       "      <td>756.859985</td>\n",
       "      <td>738.359985</td>\n",
       "      <td>755.830017</td>\n",
       "      <td>755.830017</td>\n",
       "      <td>15357700</td>\n",
       "    </tr>\n",
       "    <tr>\n",
       "      <th>249</th>\n",
       "      <td>2021-09-16</td>\n",
       "      <td>752.830017</td>\n",
       "      <td>758.909973</td>\n",
       "      <td>747.609985</td>\n",
       "      <td>756.989990</td>\n",
       "      <td>756.989990</td>\n",
       "      <td>13923400</td>\n",
       "    </tr>\n",
       "    <tr>\n",
       "      <th>250</th>\n",
       "      <td>2021-09-17</td>\n",
       "      <td>757.150024</td>\n",
       "      <td>761.039978</td>\n",
       "      <td>750.000000</td>\n",
       "      <td>759.489990</td>\n",
       "      <td>759.489990</td>\n",
       "      <td>28186100</td>\n",
       "    </tr>\n",
       "    <tr>\n",
       "      <th>251</th>\n",
       "      <td>2021-09-20</td>\n",
       "      <td>734.557983</td>\n",
       "      <td>742.000000</td>\n",
       "      <td>724.460022</td>\n",
       "      <td>729.539978</td>\n",
       "      <td>729.539978</td>\n",
       "      <td>11094579</td>\n",
       "    </tr>\n",
       "  </tbody>\n",
       "</table>\n",
       "<p>252 rows × 7 columns</p>\n",
       "</div>"
      ],
      "text/plain": [
       "           Date        Open        High         Low       Close   Adj Close  \\\n",
       "0    2020-09-21  453.130005  455.679993  407.070007  449.390015  449.390015   \n",
       "1    2020-09-22  429.600006  437.760010  417.600006  424.230011  424.230011   \n",
       "2    2020-09-23  405.160004  412.149994  375.880005  380.359985  380.359985   \n",
       "3    2020-09-24  363.799988  399.500000  351.299988  387.790009  387.790009   \n",
       "4    2020-09-25  393.470001  408.730011  391.299988  407.339996  407.339996   \n",
       "..          ...         ...         ...         ...         ...         ...   \n",
       "247  2021-09-14  742.570007  754.469971  736.400024  744.489990  744.489990   \n",
       "248  2021-09-15  745.000000  756.859985  738.359985  755.830017  755.830017   \n",
       "249  2021-09-16  752.830017  758.909973  747.609985  756.989990  756.989990   \n",
       "250  2021-09-17  757.150024  761.039978  750.000000  759.489990  759.489990   \n",
       "251  2021-09-20  734.557983  742.000000  724.460022  729.539978  729.539978   \n",
       "\n",
       "        Volume  \n",
       "0    109476800  \n",
       "1     79580800  \n",
       "2     95074200  \n",
       "3     96561100  \n",
       "4     67208500  \n",
       "..         ...  \n",
       "247   18524900  \n",
       "248   15357700  \n",
       "249   13923400  \n",
       "250   28186100  \n",
       "251   11094579  \n",
       "\n",
       "[252 rows x 7 columns]"
      ]
     },
     "execution_count": 29,
     "metadata": {},
     "output_type": "execute_result"
    }
   ],
   "source": [
    "tsla = pd.read_csv('./TSLA.csv')\n",
    "tsla"
   ]
  },
  {
   "cell_type": "code",
   "execution_count": 30,
   "id": "7e6b3cdb",
   "metadata": {},
   "outputs": [
    {
     "data": {
      "text/html": [
       "<div>\n",
       "<style scoped>\n",
       "    .dataframe tbody tr th:only-of-type {\n",
       "        vertical-align: middle;\n",
       "    }\n",
       "\n",
       "    .dataframe tbody tr th {\n",
       "        vertical-align: top;\n",
       "    }\n",
       "\n",
       "    .dataframe thead th {\n",
       "        text-align: right;\n",
       "    }\n",
       "</style>\n",
       "<table border=\"1\" class=\"dataframe\">\n",
       "  <thead>\n",
       "    <tr style=\"text-align: right;\">\n",
       "      <th></th>\n",
       "      <th>Date</th>\n",
       "      <th>Open</th>\n",
       "      <th>High</th>\n",
       "      <th>Low</th>\n",
       "      <th>Close</th>\n",
       "      <th>Adj Close</th>\n",
       "      <th>Volume</th>\n",
       "    </tr>\n",
       "  </thead>\n",
       "  <tbody>\n",
       "    <tr>\n",
       "      <th>0</th>\n",
       "      <td>2020-09-21</td>\n",
       "      <td>453.130005</td>\n",
       "      <td>455.679993</td>\n",
       "      <td>407.070007</td>\n",
       "      <td>449.390015</td>\n",
       "      <td>449.390015</td>\n",
       "      <td>109476800</td>\n",
       "    </tr>\n",
       "    <tr>\n",
       "      <th>1</th>\n",
       "      <td>2020-09-22</td>\n",
       "      <td>429.600006</td>\n",
       "      <td>437.760010</td>\n",
       "      <td>417.600006</td>\n",
       "      <td>424.230011</td>\n",
       "      <td>424.230011</td>\n",
       "      <td>79580800</td>\n",
       "    </tr>\n",
       "    <tr>\n",
       "      <th>2</th>\n",
       "      <td>2020-09-23</td>\n",
       "      <td>405.160004</td>\n",
       "      <td>412.149994</td>\n",
       "      <td>375.880005</td>\n",
       "      <td>380.359985</td>\n",
       "      <td>380.359985</td>\n",
       "      <td>95074200</td>\n",
       "    </tr>\n",
       "    <tr>\n",
       "      <th>3</th>\n",
       "      <td>2020-09-24</td>\n",
       "      <td>363.799988</td>\n",
       "      <td>399.500000</td>\n",
       "      <td>351.299988</td>\n",
       "      <td>387.790009</td>\n",
       "      <td>387.790009</td>\n",
       "      <td>96561100</td>\n",
       "    </tr>\n",
       "    <tr>\n",
       "      <th>4</th>\n",
       "      <td>2020-09-25</td>\n",
       "      <td>393.470001</td>\n",
       "      <td>408.730011</td>\n",
       "      <td>391.299988</td>\n",
       "      <td>407.339996</td>\n",
       "      <td>407.339996</td>\n",
       "      <td>67208500</td>\n",
       "    </tr>\n",
       "    <tr>\n",
       "      <th>5</th>\n",
       "      <td>2020-09-28</td>\n",
       "      <td>424.619995</td>\n",
       "      <td>428.079987</td>\n",
       "      <td>415.549988</td>\n",
       "      <td>421.200012</td>\n",
       "      <td>421.200012</td>\n",
       "      <td>49719600</td>\n",
       "    </tr>\n",
       "    <tr>\n",
       "      <th>6</th>\n",
       "      <td>2020-09-29</td>\n",
       "      <td>416.000000</td>\n",
       "      <td>428.500000</td>\n",
       "      <td>411.600006</td>\n",
       "      <td>419.070007</td>\n",
       "      <td>419.070007</td>\n",
       "      <td>50219300</td>\n",
       "    </tr>\n",
       "    <tr>\n",
       "      <th>7</th>\n",
       "      <td>2020-09-30</td>\n",
       "      <td>421.320007</td>\n",
       "      <td>433.929993</td>\n",
       "      <td>420.470001</td>\n",
       "      <td>429.010010</td>\n",
       "      <td>429.010010</td>\n",
       "      <td>48145600</td>\n",
       "    </tr>\n",
       "    <tr>\n",
       "      <th>8</th>\n",
       "      <td>2020-10-01</td>\n",
       "      <td>440.760010</td>\n",
       "      <td>448.880005</td>\n",
       "      <td>434.420013</td>\n",
       "      <td>448.160004</td>\n",
       "      <td>448.160004</td>\n",
       "      <td>50741500</td>\n",
       "    </tr>\n",
       "    <tr>\n",
       "      <th>9</th>\n",
       "      <td>2020-10-02</td>\n",
       "      <td>421.390015</td>\n",
       "      <td>439.130005</td>\n",
       "      <td>415.000000</td>\n",
       "      <td>415.089996</td>\n",
       "      <td>415.089996</td>\n",
       "      <td>71430000</td>\n",
       "    </tr>\n",
       "  </tbody>\n",
       "</table>\n",
       "</div>"
      ],
      "text/plain": [
       "         Date        Open        High         Low       Close   Adj Close  \\\n",
       "0  2020-09-21  453.130005  455.679993  407.070007  449.390015  449.390015   \n",
       "1  2020-09-22  429.600006  437.760010  417.600006  424.230011  424.230011   \n",
       "2  2020-09-23  405.160004  412.149994  375.880005  380.359985  380.359985   \n",
       "3  2020-09-24  363.799988  399.500000  351.299988  387.790009  387.790009   \n",
       "4  2020-09-25  393.470001  408.730011  391.299988  407.339996  407.339996   \n",
       "5  2020-09-28  424.619995  428.079987  415.549988  421.200012  421.200012   \n",
       "6  2020-09-29  416.000000  428.500000  411.600006  419.070007  419.070007   \n",
       "7  2020-09-30  421.320007  433.929993  420.470001  429.010010  429.010010   \n",
       "8  2020-10-01  440.760010  448.880005  434.420013  448.160004  448.160004   \n",
       "9  2020-10-02  421.390015  439.130005  415.000000  415.089996  415.089996   \n",
       "\n",
       "      Volume  \n",
       "0  109476800  \n",
       "1   79580800  \n",
       "2   95074200  \n",
       "3   96561100  \n",
       "4   67208500  \n",
       "5   49719600  \n",
       "6   50219300  \n",
       "7   48145600  \n",
       "8   50741500  \n",
       "9   71430000  "
      ]
     },
     "execution_count": 30,
     "metadata": {},
     "output_type": "execute_result"
    }
   ],
   "source": [
    "tsla.head(10)"
   ]
  },
  {
   "cell_type": "code",
   "execution_count": 33,
   "id": "5cc55d77",
   "metadata": {},
   "outputs": [
    {
     "data": {
      "text/plain": [
       "Date          object\n",
       "Open         float64\n",
       "High         float64\n",
       "Low          float64\n",
       "Close        float64\n",
       "Adj Close    float64\n",
       "Volume         int64\n",
       "dtype: object"
      ]
     },
     "execution_count": 33,
     "metadata": {},
     "output_type": "execute_result"
    }
   ],
   "source": [
    "column_names = tsla.columns\n",
    "column_names\n",
    "tsla.dtypes"
   ]
  },
  {
   "cell_type": "markdown",
   "id": "267bf97c",
   "metadata": {},
   "source": [
    "# Index-Based Selection (iloc)"
   ]
  },
  {
   "cell_type": "code",
   "execution_count": 40,
   "id": "a203c906",
   "metadata": {},
   "outputs": [
    {
     "data": {
      "text/plain": [
       "Date         2020-09-21\n",
       "Open         453.130005\n",
       "High         455.679993\n",
       "Low          407.070007\n",
       "Close        449.390015\n",
       "Adj Close    449.390015\n",
       "Volume        109476800\n",
       "Name: 0, dtype: object"
      ]
     },
     "execution_count": 40,
     "metadata": {},
     "output_type": "execute_result"
    }
   ],
   "source": [
    "tsla.iloc[0]"
   ]
  },
  {
   "cell_type": "code",
   "execution_count": 39,
   "id": "3a5dd1f0",
   "metadata": {},
   "outputs": [
    {
     "data": {
      "text/plain": [
       "0    2020-09-21\n",
       "1    2020-09-22\n",
       "3    2020-09-24\n",
       "Name: Date, dtype: object"
      ]
     },
     "execution_count": 39,
     "metadata": {},
     "output_type": "execute_result"
    }
   ],
   "source": [
    "# First row, second row, fourth row - first column\n",
    "tsla.iloc[[0, 1, 3], 0]"
   ]
  },
  {
   "cell_type": "markdown",
   "id": "e5076846",
   "metadata": {},
   "source": [
    "# Label-Based Selection (loc)"
   ]
  },
  {
   "cell_type": "code",
   "execution_count": 41,
   "id": "518c6bed",
   "metadata": {},
   "outputs": [
    {
     "data": {
      "text/plain": [
       "449.390015"
      ]
     },
     "execution_count": 41,
     "metadata": {},
     "output_type": "execute_result"
    }
   ],
   "source": [
    "tsla.loc[0]['Close']"
   ]
  },
  {
   "cell_type": "code",
   "execution_count": 42,
   "id": "79416912",
   "metadata": {},
   "outputs": [],
   "source": [
    "tsla.set_index('Date', inplace = True)"
   ]
  },
  {
   "cell_type": "code",
   "execution_count": 43,
   "id": "a1232e01",
   "metadata": {},
   "outputs": [
    {
     "data": {
      "text/plain": [
       "449.390015"
      ]
     },
     "execution_count": 43,
     "metadata": {},
     "output_type": "execute_result"
    }
   ],
   "source": [
    "tsla.loc['2020-09-21']['Close']"
   ]
  },
  {
   "cell_type": "code",
   "execution_count": 44,
   "id": "ce881778",
   "metadata": {},
   "outputs": [
    {
     "data": {
      "text/plain": [
       "449.390015"
      ]
     },
     "execution_count": 44,
     "metadata": {},
     "output_type": "execute_result"
    }
   ],
   "source": [
    "tsla.loc['2020-09-21', 'Close']"
   ]
  },
  {
   "cell_type": "code",
   "execution_count": null,
   "id": "8c73243f",
   "metadata": {},
   "outputs": [],
   "source": [
    "tsla.loc['2020-09-21', ['Close', 'High']"
   ]
  }
 ],
 "metadata": {
  "kernelspec": {
   "display_name": "Python 3 (ipykernel)",
   "language": "python",
   "name": "python3"
  },
  "language_info": {
   "codemirror_mode": {
    "name": "ipython",
    "version": 3
   },
   "file_extension": ".py",
   "mimetype": "text/x-python",
   "name": "python",
   "nbconvert_exporter": "python",
   "pygments_lexer": "ipython3",
   "version": "3.11.7"
  }
 },
 "nbformat": 4,
 "nbformat_minor": 5
}
